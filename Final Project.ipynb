{
 "cells": [
  {
   "cell_type": "code",
   "execution_count": null,
   "metadata": {
    "collapsed": false
   },
   "outputs": [],
   "source": [
    "import matplotlib.pyplot as plt\n",
    "import networkx as nx\n",
    "from collections import Counter, defaultdict\n",
    "import numpy as np\n",
    "from random import choice\n",
    "from networkx.algorithms.community import kernighan_lin"
   ]
  },
  {
   "cell_type": "code",
   "execution_count": null,
   "metadata": {
    "collapsed": false
   },
   "outputs": [],
   "source": [
    "# Barabasi-Albert graph, without degree limitation\n",
    "G = nx.barabasi_albert_graph(100, 2)\n",
    "nx.draw(G, node_size=30)\n",
    "\n",
    "degrees = Counter()\n",
    "for n, d in G.degree():\n",
    "    degrees[d] += 1\n",
    "print(G.degree())\n",
    "\n",
    "plt.title('Barabasi-Albert scale-free network w/o degree limitation (100 nodes)')\n",
    "plt.savefig('barabasi')\n",
    "plt.show()"
   ]
  },
  {
   "cell_type": "code",
   "execution_count": null,
   "metadata": {
    "collapsed": false
   },
   "outputs": [],
   "source": [
    "# The Scafida Algorithm implementation\n",
    "def scafida(n_servers, n_ports, n_switches, n_switch_ports, m=2):\n",
    "    V = set()\n",
    "    for i in range(m):\n",
    "        V.add(i)\n",
    "\n",
    "    k = len(n_switches)\n",
    "    assert k == len(n_switch_ports)\n",
    "    a_i = Counter()\n",
    "    degrees = Counter()\n",
    "\n",
    "    E = set()\n",
    "    for i in range(m):\n",
    "        E.add((m, i))\n",
    "    for i in range(m):\n",
    "        degrees[i] = 1\n",
    "    degrees[m] = m\n",
    "\n",
    "    R = [i for i in range(m)]\n",
    "    R += [m for i in range(m)]\n",
    "    \n",
    "    n_nodes = n_servers + np.sum(n_switches)\n",
    "    b = m + 1\n",
    "    \n",
    "    while b < n_nodes:\n",
    "        V.add(b)\n",
    "        T = set()\n",
    "        \n",
    "        while len(T) < m:\n",
    "            v_t = choice(R)\n",
    "            while True:\n",
    "                if v_t not in T:\n",
    "                    break\n",
    "                v_t = choice(R)\n",
    "            if degrees[v_t] != n_ports and degrees[v_t] not in n_switch_ports:\n",
    "                T.add(v_t)\n",
    "                E.add((v_t, b))\n",
    "\n",
    "                degrees[v_t] += 1\n",
    "                degrees[b] += 1\n",
    "            else:\n",
    "                nasw = 0\n",
    "                ntsw = 0\n",
    "                \n",
    "                try:\n",
    "                    t_i = n_switch_ports.index(v_t)\n",
    "                except:\n",
    "                    t_i = 0\n",
    "                \n",
    "                if degrees[v_t] < n_ports:\n",
    "                    nasw += a_i[0]\n",
    "                    ntsw += n_servers\n",
    "                for j in range(k):\n",
    "                    if degrees[v_t] < n_switch_ports[j]:\n",
    "                        nasw += a_i[j + 1]\n",
    "                        ntsw += n_switches[j]\n",
    "                \n",
    "                if nasw < ntsw:\n",
    "                    a_i[t_i] -= 1\n",
    "                    a_i[t_i + 1] += 1\n",
    "                    T.add(v_t)\n",
    "                    E.add((b, v_t))\n",
    "                    degrees[v_t] += 1\n",
    "                    degrees[b] += 1\n",
    "                else:\n",
    "                    R = list(filter(lambda a: a != v_t, R))\n",
    "        R.extend(T)\n",
    "        for i in range(m):\n",
    "            R.append(b)\n",
    "        b += 1\n",
    "    \n",
    "    return V, E, degrees"
   ]
  },
  {
   "cell_type": "code",
   "execution_count": null,
   "metadata": {
    "collapsed": false
   },
   "outputs": [],
   "source": [
    "V, E, degrees = scafida(10000, 2, [200, 200, 1000], [16, 32, 48])\n",
    "G = nx.Graph()\n",
    "for v in V:\n",
    "    G.add_node(v)\n",
    "G.add_edges_from(list(E))"
   ]
  },
  {
   "cell_type": "code",
   "execution_count": null,
   "metadata": {
    "collapsed": false
   },
   "outputs": [],
   "source": [
    "degrees = defaultdict(int)\n",
    "for n, d in G.degree():\n",
    "    degrees[d] += 1\n",
    "\n",
    "deg = list(degrees.keys())\n",
    "amounts = [degrees[d] for d in deg]\n",
    "\n",
    "plt.scatter(deg, amounts)\n",
    "plt.yscale('log')\n",
    "plt.show()"
   ]
  },
  {
   "cell_type": "code",
   "execution_count": null,
   "metadata": {
    "collapsed": false
   },
   "outputs": [],
   "source": [
    "nx.draw(G, node_size=5)\n",
    "plt.title('Scafida network w/ degree limitation (100 nodes)')\n",
    "#plt.savefig('scafida')\n",
    "plt.show()"
   ]
  },
  {
   "cell_type": "markdown",
   "metadata": {
    "collapsed": true
   },
   "source": [
    "## Figure 1a"
   ]
  },
  {
   "cell_type": "code",
   "execution_count": null,
   "metadata": {
    "collapsed": true
   },
   "outputs": [],
   "source": [
    "averages = []\n",
    "for i in [8, 16, 24, 48]:\n",
    "    V, E, degrees = scafida(100, i, [300, 300, 300], [i, i, i])\n",
    "    G = nx.Graph()\n",
    "    G.add_nodes_from(list(V))\n",
    "    G.add_edges_from(list(E))\n",
    "    averages.append(nx.average_shortest_path_length(G))\n",
    "\n",
    "G_barabasi = nx.barabasi_albert_graph(1000, 2)\n",
    "averages.append(nx.average_shortest_path_length(G_barabasi))"
   ]
  },
  {
   "cell_type": "code",
   "execution_count": null,
   "metadata": {
    "collapsed": false
   },
   "outputs": [],
   "source": [
    "averages2 = []\n",
    "for i in [8, 16, 24, 48]:\n",
    "    V, E, degrees = scafida(2000, i, [1000, 1000, 1000], [i, i, i])\n",
    "    G = nx.Graph()\n",
    "    G.add_nodes_from(list(V))\n",
    "    G.add_edges_from(list(E))\n",
    "    \n",
    "    averages2.append(nx.average_shortest_path_length(G))\n",
    "\n",
    "G_barabasi = nx.barabasi_albert_graph(5000, 2)\n",
    "averages2.append(nx.average_shortest_path_length(G_barabasi))"
   ]
  },
  {
   "cell_type": "code",
   "execution_count": null,
   "metadata": {
    "collapsed": true
   },
   "outputs": [],
   "source": [
    "averages3 = []\n",
    "for i in [8, 16, 24, 48]:\n",
    "    V, E, degrees = scafida(4000, i, [2000, 2000, 2000], [i, i, i])\n",
    "    G = nx.Graph()\n",
    "    G.add_nodes_from(list(V))\n",
    "    G.add_edges_from(list(E))\n",
    "    \n",
    "    averages3.append(nx.average_shortest_path_length(G))\n",
    "\n",
    "G_barabasi = nx.barabasi_albert_graph(10000, 2)\n",
    "averages3.append(nx.average_shortest_path_length(G_barabasi))"
   ]
  },
  {
   "cell_type": "code",
   "execution_count": null,
   "metadata": {
    "collapsed": false
   },
   "outputs": [],
   "source": [
    "index = np.array([1000, 1350, 1700])\n",
    "bar_width = 50\n",
    "\n",
    "fig, ax = plt.subplots()\n",
    "\n",
    "s_8 = ax.bar(index - bar_width*2, [averages[0], averages2[0], averages3[0]], bar_width, label=\"8\", color='blue')\n",
    "s_16 = ax.bar(index - bar_width, [averages[1], averages2[1], averages3[1]], bar_width, label=\"16\", color='lightblue')\n",
    "s_24 = ax.bar(index, [averages[2], averages2[2], averages3[2]], bar_width, label=\"24\", color='green')\n",
    "s_48 = ax.bar(index + bar_width, [averages[3], averages2[3], averages3[3]], bar_width, label=\"48\", color='orange')\n",
    "s_unl = ax.bar(index + 2*bar_width, [averages[4], averages2[4], averages3[4]], bar_width, label=\"nl\", color='darkred')\n",
    "\n",
    "ax.set_xlabel('Number of Nodes')\n",
    "ax.set_ylabel('Average shortest path length')\n",
    "ax.set_title('Path length distribution')\n",
    "ax.set_xticks([1000, 1350, 1700])\n",
    "ax.set_xticklabels([1000, 5000, 10000])\n",
    "ax.autoscale(False) \n",
    "ax.legend(ncol=2)\n",
    "\n",
    "plt.grid()\n",
    "plt.ylim(0, 8)\n",
    "plt.savefig('path_lengths')\n",
    "plt.show()"
   ]
  },
  {
   "cell_type": "markdown",
   "metadata": {},
   "source": [
    "## Figure 1b"
   ]
  },
  {
   "cell_type": "code",
   "execution_count": null,
   "metadata": {
    "collapsed": true
   },
   "outputs": [],
   "source": [
    "def get_edge_cuts (G, servers, switches):\n",
    "    l = len(servers) // 2\n",
    "    l2 = len(switches) // 2\n",
    "    points = []\n",
    "    for i in range(200):\n",
    "        np.random.shuffle(servers)\n",
    "        np.random.shuffle(switches)\n",
    "        points.append(nx.algorithms.cuts.cut_size(G, servers[:l]+switches[:l2], servers[l:]+switches[l2:]))\n",
    "    return points"
   ]
  },
  {
   "cell_type": "code",
   "execution_count": null,
   "metadata": {
    "collapsed": false
   },
   "outputs": [],
   "source": [
    "settings = [ [3300, 2, [600, 500, 600], [8, 8, 8], 'red', 8], \\\n",
    "    [4000, 2, [400, 300, 300], [16, 16, 16], 'blue', 16], \\\n",
    "    [4500, 2, [200, 150, 150], [24, 24, 24], 'green', 24], \\\n",
    "    [4750, 2, [100, 100, 50], [48, 48, 48], 'magenta', 48]\n",
    "]\n",
    "\n",
    "for args in settings:\n",
    "    V, E, degrees = scafida(*args[:4])\n",
    "    G = nx.Graph()\n",
    "    switches = []\n",
    "    servers = []\n",
    "    for v in degrees:\n",
    "        if degrees[v] == 2:\n",
    "            servers.append(v)\n",
    "        else:\n",
    "            switches.append(v)\n",
    "    G.add_nodes_from(list(V))\n",
    "    G.add_edges_from(list(E))\n",
    "    nodes = list(V)\n",
    "    points = get_edge_cuts (G, servers, switches)\n",
    "\n",
    "    dx = 1\n",
    "    X  = np.array(np.sort(points))\n",
    "    Y  = X / len(points)\n",
    "\n",
    "    # Normalize the data to a proper PDF\n",
    "    Y /= (dx * Y).sum()\n",
    "\n",
    "    # Compute the CDF\n",
    "    CY = np.cumsum(Y * dx)\n",
    "\n",
    "    # Plot both\n",
    "    plt.plot(X, CY, color=args[4], label=args[5], ls='-', linewidth=1)"
   ]
  },
  {
   "cell_type": "code",
   "execution_count": null,
   "metadata": {
    "collapsed": false
   },
   "outputs": [],
   "source": [
    "# NO LIMIT\n",
    "G = nx.barabasi_albert_graph(5000, 2)\n",
    "switches = []\n",
    "servers = []\n",
    "for n, d in G.degree():\n",
    "    if d == 2:\n",
    "        servers.append(n)\n",
    "    else:\n",
    "        switches.append(n)\n",
    "points = get_edge_cuts (G, servers, switches)\n",
    "\n",
    "dx = 1\n",
    "X  = np.array(np.sort(points))\n",
    "Y  = X / len(points)\n",
    "\n",
    "# Normalize the data to a proper PDF\n",
    "Y /= (dx * Y).sum()\n",
    "\n",
    "# Compute the CDF\n",
    "CY = np.cumsum(Y * dx)\n",
    "\n",
    "# Plot both\n",
    "plt.plot(X, CY, color='yellow', label='NL', ls='-', linewidth=1)"
   ]
  },
  {
   "cell_type": "code",
   "execution_count": null,
   "metadata": {
    "collapsed": false
   },
   "outputs": [],
   "source": [
    "plt.legend()\n",
    "plt.xlim(4800, 5150)\n",
    "plt.ylim(0, 1)\n",
    "plt.xlabel('Bisection Bandwidth')\n",
    "plt.ylabel('CDF')\n",
    "plt.title('CDF of bisection bandwidths (5000 nodes)')\n",
    "plt.savefig('figure1b')\n",
    "plt.show()"
   ]
  },
  {
   "cell_type": "markdown",
   "metadata": {},
   "source": [
    "# Figure 1c"
   ]
  },
  {
   "cell_type": "code",
   "execution_count": null,
   "metadata": {
    "collapsed": false
   },
   "outputs": [],
   "source": [
    "V, E, degrees = scafida(650, 2, [130, 120, 100], [8, 8, 8])"
   ]
  },
  {
   "cell_type": "code",
   "execution_count": null,
   "metadata": {
    "collapsed": false
   },
   "outputs": [],
   "source": [
    "all_paths = defaultdict(list)\n",
    "for i in range(10):    \n",
    "    V, E, degrees = scafida(650, 2, [130, 120, 100], [8, 8, 8])\n",
    "\n",
    "    G = nx.Graph()\n",
    "    switches = []\n",
    "    servers = []\n",
    "    for v in degrees:\n",
    "        if degrees[v] == 2:\n",
    "            servers.append(v)\n",
    "        else:\n",
    "            switches.append(v)\n",
    "    G.add_nodes_from(list(V))\n",
    "    G.add_edges_from(list(E))\n",
    "    nodes = list(V)\n",
    "\n",
    "    np.random.shuffle(switches)\n",
    "    all_paths[0].append(Counter({2: 4000}))\n",
    "\n",
    "    for i in range(1, 5):\n",
    "        np.random.shuffle(switches)\n",
    "        to_remove = switches[: 350 * i // 20]\n",
    "\n",
    "        H = G.copy()\n",
    "        for v in to_remove:\n",
    "            H.remove_node(v)\n",
    "\n",
    "        paths = Counter()\n",
    "        total = 0\n",
    "        while total < 4000:\n",
    "            [a, b] = np.random.choice(servers, 2)\n",
    "            if a != b:\n",
    "                paths[nx.algorithms.connectivity.connectivity.edge_connectivity(H, a, b)] += 1\n",
    "                total += 1\n",
    "\n",
    "        print(i, paths)\n",
    "        all_paths[i].append(paths)\n",
    "\n",
    "print(all_paths)\n",
    "scafida = all_paths[:]"
   ]
  },
  {
   "cell_type": "code",
   "execution_count": null,
   "metadata": {
    "collapsed": false
   },
   "outputs": [],
   "source": [
    "all_paths_2 = defaultdict(list)\n",
    "for i in range(10):    \n",
    "    G = nx.barabasi_albert_graph(1000, 2)\n",
    "    switches = []\n",
    "    servers = []\n",
    "    for n, d in G.degree():\n",
    "        if d == 2:\n",
    "            servers.append(n)\n",
    "        else:\n",
    "            switches.append(n)\n",
    "\n",
    "    nodes = list(G.nodes())\n",
    "    print(len(switches), \" SWITCHES\")\n",
    "\n",
    "    np.random.shuffle(nodes)\n",
    "    all_paths_2[0].append(Counter({2: 4000}))\n",
    "\n",
    "    for i in range(1, 5):\n",
    "\n",
    "        five_percent = len(switches) * i // 20\n",
    "        to_remove = nodes[: five_percent]\n",
    "        s = set(to_remove)\n",
    "\n",
    "        H = G.copy()\n",
    "        for v in to_remove:\n",
    "            H.remove_node(v)\n",
    "\n",
    "        paths = Counter()\n",
    "        total = 0\n",
    "        while total < 4000:\n",
    "            [a, b] = np.random.choice(servers, 2)\n",
    "            if a != b and a not in s and b not in s:\n",
    "                paths[nx.algorithms.connectivity.connectivity.edge_connectivity(H, a, b)] += 1\n",
    "                total += 1\n",
    "\n",
    "        print(i, paths)\n",
    "        all_paths_2[i].append(paths)\n",
    "\n",
    "print(all_paths_2)\n",
    "barabasi = all_paths_2[:]"
   ]
  },
  {
   "cell_type": "markdown",
   "metadata": {},
   "source": [
    "# Graphs"
   ]
  },
  {
   "cell_type": "code",
   "execution_count": null,
   "metadata": {
    "collapsed": false
   },
   "outputs": [],
   "source": [
    "# 0 Paths\n",
    "data = []\n",
    "for k in scafida:\n",
    "    row = []\n",
    "    for c in scafida[k]:\n",
    "        row.append([c[0]/4000, c[1]/4000, c[2]/4000])\n",
    "    data.append(row)\n",
    "\n",
    "data2 = []\n",
    "for k in barabasi:\n",
    "    row = []\n",
    "    for c in barabasi[k]:\n",
    "        row.append([c[0]/4000, c[1]/4000, c[2]/4000])\n",
    "    data2.append(row)"
   ]
  },
  {
   "cell_type": "code",
   "execution_count": null,
   "metadata": {
    "collapsed": false
   },
   "outputs": [],
   "source": [
    "def error_bars (l):\n",
    "\treturn [min(l), max(l)]\n",
    "\n",
    "plt.clf()\n",
    "\n",
    "# Scafida\n",
    "points = np.array([np.mean([e[0] for e in p]) for p in data])\n",
    "bars = np.transpose([error_bars([e[0] for e in p]) for p in data])\n",
    "bars[0][:] -= points\n",
    "bars[0][:] /= 2\n",
    "bars[1][:] = points - bars[1][:]\n",
    "print(points)\n",
    "print(bars)\n",
    "bars[bars+points<0] *= 0.3\n",
    "\n",
    "points3 = np.array([np.mean([e[1] for e in p]) for p in data])\n",
    "bars3 = np.transpose([error_bars([e[1] for e in p]) for p in data])\n",
    "bars3[0][:] -= points3\n",
    "bars3[0][:] /= 2\n",
    "bars3[1][:] = points3 - bars3[1][:]\n",
    "bars3[bars3+points3<0] *= 0.3\n",
    "\n",
    "points5 = np.array([np.mean([e[2] for e in p]) for p in data])\n",
    "bars5 = np.transpose([error_bars([e[2] for e in p]) for p in data])\n",
    "bars5[0][:] -= points5\n",
    "bars5[0][:] /= 2\n",
    "bars5[1][:] = points5 - bars5[1][:]\n",
    "bars5[bars5+points5<0] *= 0.3\n",
    "\n",
    "# Barabasi\n",
    "points2 = np.array([np.mean([e[0] for e in p]) for p in data2])\n",
    "bars2 = np.transpose([error_bars([e[0] for e in p]) for p in data2])\n",
    "bars2[0][:] -= points2\n",
    "bars2[0][:] /= 3\n",
    "bars2[1][:] = points2 - bars2[1][:]\n",
    "bars2[bars2+points2<0] *= 0.4\n",
    "\n",
    "points4 = np.array([np.mean([e[1] for e in p]) for p in data2])\n",
    "bars4 = np.transpose([error_bars([e[1] for e in p]) for p in data2])\n",
    "bars4[0][:] -= points4\n",
    "bars4[0][:] /= 1\n",
    "bars4[1][:] = points4 - bars4[1][:]\n",
    "bars4[bars4+points4<0] *= 0.4\n",
    "\n",
    "points6 = np.array([np.mean([e[2] for e in p]) for p in data2])\n",
    "bars6 = np.transpose([error_bars([e[2] for e in p]) for p in data2])\n",
    "bars6[0][:] -= points6\n",
    "bars6[0][:] /= 1\n",
    "bars6[1][:] = points6 - bars6[1][:]\n",
    "bars6[bars6+points6<0] *= 0.4\n",
    "\n",
    "fig, (ax1, ax2, ax3) = plt.subplots(3)\n",
    "ax1.errorbar([0, 5, 10, 15, 20], points, bars, marker=\"o\", markersize=7, \\\n",
    "\tlinewidth=0.5, fillstyle=\"none\", color=\"red\", capsize=5, label='8')\n",
    "ax1.errorbar([0, 5, 10, 15, 20], points2, bars2, marker=\"s\", markersize=6, \\\n",
    "\tlinewidth=0.5, fillstyle=\"none\", color=\"blue\", capsize=5, label='NL')\n",
    "\n",
    "ax2.errorbar([0, 5, 10, 15, 20], points3, bars3, marker=\"o\", markersize=7, \\\n",
    "\tlinewidth=0.5, fillstyle=\"none\", color=\"red\", capsize=5, label='8')\n",
    "ax2.errorbar([0, 5, 10, 15, 20], points4, bars4, marker=\"s\", markersize=6, \\\n",
    "\tlinewidth=0.5, fillstyle=\"none\", color=\"blue\", capsize=5, label='NL')\n",
    "\n",
    "ax3.errorbar([0, 5, 10, 15, 20], points5, bars5, marker=\"o\", markersize=7, \\\n",
    "\tlinewidth=0.5, fillstyle=\"none\", color=\"red\", capsize=5, label='8')\n",
    "ax3.errorbar([0, 5, 10, 15, 20], points6, bars6, marker=\"s\", markersize=6, \\\n",
    "\tlinewidth=0.5, fillstyle=\"none\", color=\"blue\", capsize=5, label='NL')\n",
    "\n",
    "ax1.set_title('Fraction of 0 disjoint paths')\n",
    "ax2.set_title('Fraction of 1 disjoint paths')\n",
    "ax3.set_title('Fraction of 2 disjoint paths')\n",
    "ax1.legend(loc=\"upper left\", prop={'size': 16})\n",
    "\n",
    "ax1.set_xticks([0, 5, 10, 15, 20])\n",
    "ax1.set_yticks([0, 0.005, 0.01])\n",
    "ax2.set_xticks([0, 5, 10, 15, 20])\n",
    "ax2.set_yticks([0, 0.1, 0.2, 0.3])\n",
    "ax3.set_xticks([0, 5, 10, 15, 20])\n",
    "\n",
    "plt.subplots_adjust(hspace=0.4)\n",
    "plt.xlabel('Percentage of failed switches')\n",
    "fig.set_figheight(8)\n",
    "plt.savefig('figure1c')\n",
    "plt.show()"
   ]
  }
 ],
 "metadata": {
  "kernelspec": {
   "display_name": "Python 3",
   "language": "python",
   "name": "python3"
  },
  "language_info": {
   "codemirror_mode": {
    "name": "ipython",
    "version": 3
   },
   "file_extension": ".py",
   "mimetype": "text/x-python",
   "name": "python",
   "nbconvert_exporter": "python",
   "pygments_lexer": "ipython3",
   "version": "3.6.0"
  }
 },
 "nbformat": 4,
 "nbformat_minor": 2
}
